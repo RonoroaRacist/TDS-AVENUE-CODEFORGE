{
 "cells": [
  {
   "cell_type": "markdown",
   "metadata": {},
   "source": [
    "# Movie Genre Classification\n",
    "\n",
    "This notebook performs movie genre classification based on titles and descriptions using Natural Language Processing (NLP) and Machine Learning techniques."
   ]
  },
  {
   "cell_type": "code",
   "execution_count": null,
   "metadata": {},
   "outputs": [],
   "source": [
    "import pandas as pd\n",
    "import re\n",
    "from sklearn.model_selection import train_test_split\n",
    "from sklearn.feature_extraction.text import TfidfVectorizer\n",
    "from sklearn.pipeline import Pipeline\n",
    "from sklearn.linear_model import LogisticRegression\n",
    "from sklearn.metrics import classification_report"
   ]
  },
  {
   "cell_type": "markdown",
   "metadata": {},
   "source": [
    "## Read and Preprocess Data"
   ]
  },
  {
   "cell_type": "code",
   "execution_count": null,
   "metadata": {},
   "outputs": [],
   "source": [
    "# Function to read and preprocess the data\n",
    "def read_data(file_path):\n",
    "    data = []\n",
    "    with open(file_path, 'r') as file:\n",
    "        for line in file:\n",
    "            parts = line.strip().split(':::')\n",
    "            data.append(parts)\n",
    "    return pd.DataFrame(data, columns=['ID', 'TITLE', 'GENRE', 'DESCRIPTION']) if 'GENRE' in data[0] else pd.DataFrame(data, columns=['ID', 'TITLE', 'DESCRIPTION'])\n",
    "\n",
    "# Reading train and test data\n",
    "train_data = read_data('train_data.txt')\n",
    "test_data = read_data('test_data.txt')\n",
    "\n",
    "# Combine title and description into one feature\n",
    "train_data['TEXT'] = train_data['TITLE'] + ' ' + train_data['DESCRIPTION']\n",
    "test_data['TEXT'] = test_data['TITLE'] + ' ' + test_data['DESCRIPTION']\n",
    "\n",
    "# Text cleaning function\n",
    "def clean_text(text):\n",
    "    text = re.sub(r'[^\w\\s]', '', text)  # Remove punctuation\n",
    "    text = text.lower()  # Lowercase\n",
    "    return text\n",
    "\n",
    "# Apply cleaning\n",
    "train_data['TEXT'] = train_data['TEXT'].apply(clean_text)\n",
    "test_data['TEXT'] = test_data['TEXT'].apply(clean_text)"
   ]
  },
  {
   "cell_type": "markdown",
   "metadata": {},
   "source": [
    "## Split Data for Training and Validation"
   ]
  },
  {
   "cell_type": "code",
   "execution_count": null,
   "metadata": {},
   "outputs": [],
   "source": [
    "# Split train data for validation\n",
    "X_train, X_val, y_train, y_val = train_test_split(train_data['TEXT'], train_data['GENRE'], test_size=0.2, random_state=42)"
   ]
  },
  {
   "cell_type": "markdown",
   "metadata": {},
   "source": [
    "## Build and Train the Model"
   ]
  },
  {
   "cell_type": "code",
   "execution_count": null,
   "metadata": {},
   "outputs": [],
   "source": [
    "# TF-IDF Vectorizer\n",
    "tfidf = TfidfVectorizer(stop_words='english', max_df=0.7)\n",
    "\n",
    "# Logistic Regression Model\n",
    "model = LogisticRegression(max_iter=200)\n",
    "\n",
    "# Create a pipeline\n",
    "pipeline = Pipeline([\n",
    "    ('tfidf', tfidf),\n",
    "    ('clf', model),\n",
    "])\n",
    "\n",
    "# Train the model\n",
    "pipeline.fit(X_train, y_train)"
   ]
  },
  {
   "cell_type": "markdown",
   "metadata": {},
   "source": [
    "## Evaluate the Model"
   ]
  },
  {
   "cell_type": "code",
   "execution_count": null,
   "metadata": {},
   "outputs": [],
   "source": [
    "# Validate the model\n",
    "y_pred = pipeline.predict(X_val)\n",
    "print(classification_report(y_val, y_pred))"
   ]
  },
  {
   "cell_type": "markdown",
   "metadata": {},
   "source": [
    "## Predict on Test Data and Save Results"
   ]
  },
  {
   "cell_type": "code",
   "execution_count": null,
   "metadata": {},
   "outputs": [],
   "source": [
    "# Predict on test data\n",
    "test_data['PREDICTED_GENRE'] = pipeline.predict(test_data['TEXT'])\n",
    "\n",
    "# Save predictions\n",
    "test_data[['ID', 'PREDICTED_GENRE']].to_csv('test_predictions.csv', index=False)"
   ]
  }
 ],
 "metadata": {
  "kernelspec": {
   "display_name": "Python 3",
   "language": "python",
   "name": "python3"
  },
  "language_info": {
   "codemirror_mode": {
    "name": "ipython",
    "version": 3
   },
   "file_extension": ".py",
   "mimetype": "text/x-python",
   "name": "python",
   "nbconvert_exporter": "python",
   "pygments_lexer": "ipython3",
   "version": "3.8.5"
  }
 },
 "nbformat": 4,
 "nbformat_minor": 4
}
